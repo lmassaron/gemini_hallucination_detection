{
 "cells": [
  {
   "cell_type": "code",
   "execution_count": null,
   "metadata": {
    "tags": []
   },
   "outputs": [],
   "source": [
    "import pandas as pd\n",
    "import numpy as np\n",
    "from tqdm import tqdm\n",
    "from sklearn.metrics import roc_auc_score\n",
    "\n",
    "train = pd.read_csv(\"./kaggle/input/ml-olympiad-detect-hallucinations-in-llms/train.csv\")\n",
    "test = pd.read_csv(\"./kaggle/input/ml-olympiad-detect-hallucinations-in-llms/test.csv\")"
   ]
  },
  {
   "cell_type": "code",
   "execution_count": null,
   "metadata": {
    "tags": []
   },
   "outputs": [],
   "source": [
    "# Define project information\n",
    "PROJECT_ID = \"<your_project_id>\"  # @param {type:\"string\"}\n",
    "LOCATION = \"us-central1\"  # @param {type:\"string\"}\n",
    "\n",
    "# Initialize Vertex AI\n",
    "import vertexai\n",
    "\n",
    "vertexai.init(project=PROJECT_ID, location=LOCATION)"
   ]
  },
  {
   "cell_type": "code",
   "execution_count": null,
   "metadata": {
    "tags": []
   },
   "outputs": [],
   "source": [
    "# Initialize Vertex AI models\n",
    "from vertexai.language_models import TextEmbeddingModel\n",
    "from vertexai.generative_models import GenerativeModel\n",
    "\n",
    "model = GenerativeModel(\"gemini-1.0-pro\")\n",
    "embedding_model = TextEmbeddingModel.from_pretrained(\"textembedding-gecko@001\")"
   ]
  },
  {
   "cell_type": "code",
   "execution_count": null,
   "metadata": {
    "tags": []
   },
   "outputs": [],
   "source": [
    "def get_distance(prompt, target_answer, model, embedding_model):\n",
    "    \"\"\"Calculate the distance between a generated answer and a target answer\"\"\"\n",
    "\n",
    "    try:\n",
    "        # Generate an answer from the prompt using the model\n",
    "        response = model.generate_content(\n",
    "                    prompt,\n",
    "                    generation_config={\"temperature\": 0},\n",
    "                    )\n",
    "        # Extract the generated answer from the response\n",
    "        answer = response.candidates[0].content.parts[0].text\n",
    "    except:\n",
    "        # If an exception occurs during answer generation, set the answer to \"no answer\"\n",
    "        answer = \"no answer\"\n",
    "\n",
    "    # Get embeddings for the generated answer and the target answer\n",
    "    embedded_answer = embedding_model.get_embeddings([str(answer)])[0].values\n",
    "    embedded_target = embedding_model.get_embeddings([str(target_answer)])[0].values\n",
    "\n",
    "    # Calculate the dot product between the embeddings and normalize it\n",
    "    dot_product = np.dot(embedded_answer, embedded_target) / 1.\n",
    "    \n",
    "    # Calculate the distance between the embeddings\n",
    "    distance = 1 - dot_product\n",
    "        \n",
    "    return distance\n"
   ]
  },
  {
   "cell_type": "code",
   "execution_count": null,
   "metadata": {},
   "outputs": [],
   "source": [
    "def calculate_scores(data, model, embedding_model, max_retries=10, print_interval=None):\n",
    "    \"\"\"Calculate scores for each row in the provided data\"\"\"\n",
    "    \n",
    "    scores = []\n",
    "    \n",
    "    # Iterate over each row in the data\n",
    "    for row in tqdm(range(len(data))):\n",
    "        score = None\n",
    "        retry = 0\n",
    "        \n",
    "        # Attempt to calculate score with retries\n",
    "        while score is None and retry <= max_retries:\n",
    "            score = get_distance(data.iloc[row].Prompt, data.iloc[row].Answer, model, embedding_model)\n",
    "            retry += 1\n",
    "        \n",
    "        # If score is still None after retries, set it to 0.25\n",
    "        if score is None:\n",
    "            score = 0.25\n",
    "        \n",
    "        scores.append(score)\n",
    "        \n",
    "        # Print progress and ROC AUC score if print_interval is set\n",
    "        if print_interval is not None and row > 0 and row % print_interval == 0:\n",
    "            roc_auc = roc_auc_score(y_true=data.Target.iloc[:len(scores)], y_score=scores)\n",
    "            print(f\"{row}/{len(data)} ROC AUC: {roc_auc}\")\n",
    "    \n",
    "    return scores"
   ]
  },
  {
   "cell_type": "code",
   "execution_count": null,
   "metadata": {
    "tags": []
   },
   "outputs": [],
   "source": [
    "# Compute scores for the train data\n",
    "train_scores = calculate_scores(train, model, embedding_model, max_retries=10, print_interval=500)"
   ]
  },
  {
   "cell_type": "code",
   "execution_count": null,
   "metadata": {
    "tags": []
   },
   "outputs": [],
   "source": [
    "# Save scores for the train data\n",
    "train[\"score\"] = train_scores\n",
    "train.to_csv(\"scored_train.csv\", index=False)"
   ]
  },
  {
   "cell_type": "code",
   "execution_count": null,
   "metadata": {
    "tags": []
   },
   "outputs": [],
   "source": [
    "# Compute scores for the test data\n",
    "test_scores = calculate_scores(test, model, embedding_model, max_retries=10, print_interval=None)"
   ]
  },
  {
   "cell_type": "code",
   "execution_count": null,
   "metadata": {
    "tags": []
   },
   "outputs": [],
   "source": [
    "# Save your submission\n",
    "submission = pd.read_csv(\"./kaggle/input/ml-olympiad-detect-hallucinations-in-llms/sample_submission.csv\")\n",
    "submission.Target = test_scores\n",
    "submission.to_csv(\"submission.csv\", index=False)"
   ]
  }
 ],
 "metadata": {
  "environment": {
   "kernel": "python3",
   "name": "tf2-cpu.2-11.m119",
   "type": "gcloud",
   "uri": "us-docker.pkg.dev/deeplearning-platform-release/gcr.io/tf2-cpu.2-11:m119"
  },
  "kaggle": {
   "accelerator": "none",
   "dataSources": [
    {
     "databundleVersionId": 7728822,
     "sourceId": 70655,
     "sourceType": "competition"
    }
   ],
   "dockerImageVersionId": 30673,
   "isGpuEnabled": false,
   "isInternetEnabled": true,
   "language": "python",
   "sourceType": "notebook"
  },
  "kernelspec": {
   "display_name": "Python 3 (Local)",
   "language": "python",
   "name": "python3"
  },
  "language_info": {
   "codemirror_mode": {
    "name": "ipython",
    "version": 3
   },
   "file_extension": ".py",
   "mimetype": "text/x-python",
   "name": "python",
   "nbconvert_exporter": "python",
   "pygments_lexer": "ipython3",
   "version": "3.10.14"
  }
 },
 "nbformat": 4,
 "nbformat_minor": 4
}
